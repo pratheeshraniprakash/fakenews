{
 "cells": [
  {
   "cell_type": "code",
   "execution_count": 1,
   "metadata": {},
   "outputs": [],
   "source": [
    "import matplotlib.pyplot as plt\n",
    "import numpy as np\n",
    "import pandas as pd\n",
    "\n",
    "from keras.models import Sequential\n",
    "from keras import layers\n",
    "from keras.layers import Dropout\n",
    "\n",
    "from sklearn.feature_extraction.text import CountVectorizer\n",
    "from sklearn.metrics import confusion_matrix, ConfusionMatrixDisplay, classification_report\n",
    "from sklearn.model_selection import train_test_split\n",
    "from sklearn.preprocessing import LabelEncoder"
   ]
  },
  {
   "cell_type": "code",
   "execution_count": 2,
   "metadata": {},
   "outputs": [],
   "source": [
    "TRIM_LENGTH = 300 #Number of first 'n' words after which the text should be trimmed.\n",
    "TRAIN_TEST_SPLIT = 0.95\n",
    "TRAIN_VALID_SPLIT = 0.80"
   ]
  },
  {
   "cell_type": "code",
   "execution_count": 3,
   "metadata": {},
   "outputs": [],
   "source": [
    "data_ = pd.read_csv(\"news.csv\", index_col=0)"
   ]
  },
  {
   "cell_type": "code",
   "execution_count": 4,
   "metadata": {},
   "outputs": [],
   "source": [
    "def encodeLabels(dafr, label_col):\n",
    "    df = dafr.copy()\n",
    "    encoder = LabelEncoder()\n",
    "    encoder.fit(df[label_col])\n",
    "    df[label_col] = encoder.transform(df[label_col])\n",
    "    return(df, encoder)"
   ]
  },
  {
   "cell_type": "code",
   "execution_count": 5,
   "metadata": {},
   "outputs": [],
   "source": [
    "def trainvalidtestSplit(df, encoder):\n",
    "    \n",
    "    def dfSplitter(df, split):\n",
    "        return(train_test_split(df, train_size=split, shuffle=True))\n",
    "    \n",
    "    fake_index, real_index = list(encoder.classes_).index(\"FAKE\"), list(encoder.classes_).index(\"REAL\")\n",
    "    \n",
    "    df_fake, df_real = df[df.label == fake_index], df[df.label == real_index]\n",
    "    \n",
    "    df_real_full_train, df_real_test = dfSplitter(df_real, TRAIN_TEST_SPLIT)\n",
    "    df_fake_full_train, df_fake_test = dfSplitter(df_fake, TRAIN_TEST_SPLIT)\n",
    "    \n",
    "    df_real_train, df_real_valid = dfSplitter(df_real_full_train, TRAIN_VALID_SPLIT)\n",
    "    df_fake_train, df_fake_valid = dfSplitter(df_fake_full_train, TRAIN_VALID_SPLIT)\n",
    "    \n",
    "    df_train = pd.concat([df_real_train, df_fake_train], ignore_index=True, sort=False)\n",
    "    df_valid = pd.concat([df_real_valid, df_fake_valid], ignore_index=True, sort=False)\n",
    "    df_test = pd.concat([df_real_test, df_fake_test], ignore_index=True, sort=False)\n",
    "    \n",
    "    return (df_train, df_valid, df_test)"
   ]
  },
  {
   "cell_type": "code",
   "execution_count": 6,
   "metadata": {},
   "outputs": [],
   "source": [
    "data_[\"titletext\"] = data_.title + '. ' + data_.text"
   ]
  },
  {
   "cell_type": "code",
   "execution_count": 7,
   "metadata": {},
   "outputs": [],
   "source": [
    "encoded_data, label_encoding = encodeLabels(data_, \"label\")"
   ]
  },
  {
   "cell_type": "code",
   "execution_count": 8,
   "metadata": {},
   "outputs": [],
   "source": [
    "train_, valid_, test_ = trainvalidtestSplit(encoded_data, label_encoding)"
   ]
  },
  {
   "cell_type": "code",
   "execution_count": 9,
   "metadata": {},
   "outputs": [
    {
     "data": {
      "text/plain": [
       "CountVectorizer(lowercase=False, min_df=0, stop_words='english')"
      ]
     },
     "execution_count": 9,
     "metadata": {},
     "output_type": "execute_result"
    }
   ],
   "source": [
    "corpus = data_[\"titletext\"]\n",
    "vectorizer = CountVectorizer(min_df=0, lowercase=False, stop_words='english')\n",
    "vectorizer.fit(corpus)"
   ]
  },
  {
   "cell_type": "code",
   "execution_count": 10,
   "metadata": {},
   "outputs": [],
   "source": [
    "X_train = vectorizer.transform(train_['titletext'])\n",
    "X_valid = vectorizer.transform(valid_['titletext'])\n",
    "X_test = vectorizer.transform(test_['titletext'])\n",
    "\n",
    "Y_train = train_['label']\n",
    "Y_valid = valid_['label']\n",
    "Y_test = test_['label']"
   ]
  },
  {
   "cell_type": "code",
   "execution_count": 11,
   "metadata": {},
   "outputs": [],
   "source": [
    "input_dim = X_train.toarray().shape[1]"
   ]
  },
  {
   "cell_type": "code",
   "execution_count": 12,
   "metadata": {},
   "outputs": [],
   "source": [
    "model = Sequential()\n",
    "model.add(layers.Dense(50, input_dim=input_dim, activation='selu'))\n",
    "model.add(Dropout(0.2))\n",
    "model.add(layers.Dense(50, input_dim=50, activation='selu'))\n",
    "model.add(Dropout(0.2))\n",
    "model.add(layers.Dense(50, input_dim=50, activation='selu'))\n",
    "model.add(Dropout(0.2))\n",
    "model.add(layers.Dense(25, input_dim=50, activation='selu'))\n",
    "model.add(Dropout(0.2))\n",
    "model.add(layers.Dense(5, input_dim=25, activation='selu'))\n",
    "model.add(Dropout(0.2))\n",
    "model.add(layers.Dense(1, activation='sigmoid'))"
   ]
  },
  {
   "cell_type": "code",
   "execution_count": 13,
   "metadata": {},
   "outputs": [],
   "source": [
    "model.compile(loss='binary_crossentropy',\n",
    "              optimizer='adam', \n",
    "              metrics=['accuracy'])"
   ]
  },
  {
   "cell_type": "code",
   "execution_count": 14,
   "metadata": {},
   "outputs": [
    {
     "name": "stdout",
     "output_type": "stream",
     "text": [
      "Epoch 1/5\n",
      "482/482 [==============================] - 11s 22ms/step - loss: 0.4276 - accuracy: 0.8357 - val_loss: 0.1802 - val_accuracy: 0.9410\n",
      "Epoch 2/5\n",
      "482/482 [==============================] - 9s 19ms/step - loss: 0.0760 - accuracy: 0.9769 - val_loss: 0.2284 - val_accuracy: 0.9402\n",
      "Epoch 3/5\n",
      "482/482 [==============================] - 9s 19ms/step - loss: 0.0246 - accuracy: 0.9944 - val_loss: 0.3104 - val_accuracy: 0.9419\n",
      "Epoch 4/5\n",
      "482/482 [==============================] - 9s 19ms/step - loss: 0.0174 - accuracy: 0.9955 - val_loss: 0.3306 - val_accuracy: 0.9419\n",
      "Epoch 5/5\n",
      "482/482 [==============================] - 9s 18ms/step - loss: 0.0100 - accuracy: 0.9978 - val_loss: 0.3883 - val_accuracy: 0.9377\n"
     ]
    }
   ],
   "source": [
    "history = model.fit(X_train.toarray(), Y_train,\n",
    "                    epochs=5,\n",
    "                    verbose=True,\n",
    "                    validation_data=(X_valid.toarray(), Y_valid),\n",
    "                    batch_size=10)"
   ]
  },
  {
   "cell_type": "code",
   "execution_count": 15,
   "metadata": {},
   "outputs": [],
   "source": [
    "Y_test_pred = np.squeeze(np.round(model.predict(X_test.toarray())))"
   ]
  },
  {
   "cell_type": "code",
   "execution_count": 16,
   "metadata": {},
   "outputs": [
    {
     "name": "stdout",
     "output_type": "stream",
     "text": [
      "              precision    recall  f1-score   support\n",
      "\n",
      "        FAKE       0.93      0.97      0.95       159\n",
      "        REAL       0.97      0.92      0.95       159\n",
      "\n",
      "    accuracy                           0.95       318\n",
      "   macro avg       0.95      0.95      0.95       318\n",
      "weighted avg       0.95      0.95      0.95       318\n",
      "\n"
     ]
    }
   ],
   "source": [
    "print(classification_report(Y_test.to_numpy(), Y_test_pred, target_names=list(label_encoding.classes_)))"
   ]
  },
  {
   "cell_type": "code",
   "execution_count": 17,
   "metadata": {},
   "outputs": [
    {
     "data": {
      "image/png": "[encoded data removed]",
      "text/plain": [
       "<Figure size 432x288 with 2 Axes>"
      ]
     },
     "metadata": {
      "needs_background": "light"
     },
     "output_type": "display_data"
    }
   ],
   "source": [
    "cm = confusion_matrix(Y_test.to_numpy(), Y_test_pred)\n",
    "disp = ConfusionMatrixDisplay(cm, display_labels=[\"Fake\",\"Real\"])\n",
    "disp.plot(cmap=plt.cm.Blues)\n",
    "plt.show()"
   ]
  },
  {
   "cell_type": "code",
   "execution_count": null,
   "metadata": {},
   "outputs": [],
   "source": []
  }
 ],
 "metadata": {
  "kernelspec": {
   "display_name": "Python 3",
   "language": "python",
   "name": "python3"
  },
  "language_info": {
   "codemirror_mode": {
    "name": "ipython",
    "version": 3
   },
   "file_extension": ".py",
   "mimetype": "text/x-python",
   "name": "python",
   "nbconvert_exporter": "python",
   "pygments_lexer": "ipython3",
   "version": "3.8.5"
  }
 },
 "nbformat": 4,
 "nbformat_minor": 4
}
